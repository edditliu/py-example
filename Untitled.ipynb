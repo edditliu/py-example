{
 "cells": [
  {
   "cell_type": "code",
   "execution_count": 25,
   "id": "bd06f918-1092-4686-be9c-2de1b68202c6",
   "metadata": {},
   "outputs": [
    {
     "name": "stdout",
     "output_type": "stream",
     "text": [
      "[('PostgreSQL 15.3 (Homebrew) on aarch64-apple-darwin22.4.0, compiled by Apple clang version 14.0.3 (clang-1403.0.22.14.1), 64-bit',)]\n"
     ]
    }
   ],
   "source": [
    "import psycopg2\n",
    "try:\n",
    "    conn = psycopg2.connect(\"dbname='eddie' user='eddie' host='localhost' password=''\")\n",
    "except:\n",
    "    print(\"I am unable to connect to the database\")\n",
    "with conn.cursor() as curs:\n",
    "\n",
    "    try:\n",
    "         curs.execute(\"SELECT version()\")\n",
    "        \n",
    "         single_row = curs.fetchall()\n",
    "\n",
    "         print(f\"{single_row}\")\n",
    "\n",
    "    except (Exception, psycopg2.DatabaseError) as error:\n",
    "         print(error)"
   ]
  },
  {
   "cell_type": "code",
   "execution_count": null,
   "id": "923a4bda-6b96-4cc0-ad9b-9d08aa5261cc",
   "metadata": {},
   "outputs": [],
   "source": []
  },
  {
   "cell_type": "code",
   "execution_count": null,
   "id": "6f3b4c02-d85a-44ec-a0df-0eca9615a63a",
   "metadata": {},
   "outputs": [],
   "source": []
  }
 ],
 "metadata": {
  "kernelspec": {
   "display_name": "Python 3 (ipykernel)",
   "language": "python",
   "name": "python3"
  },
  "language_info": {
   "codemirror_mode": {
    "name": "ipython",
    "version": 3
   },
   "file_extension": ".py",
   "mimetype": "text/x-python",
   "name": "python",
   "nbconvert_exporter": "python",
   "pygments_lexer": "ipython3",
   "version": "3.10.12"
  }
 },
 "nbformat": 4,
 "nbformat_minor": 5
}
